{
  "nbformat": 4,
  "nbformat_minor": 0,
  "metadata": {
    "colab": {
      "name": "NumPy.ipynb",
      "provenance": [],
      "mount_file_id": "16MLGPvp2BBfosJDONDDKoE7hXEJGERR7",
      "authorship_tag": "ABX9TyNqQJ1L1HzZGReHdxUb1Go1",
      "include_colab_link": true
    },
    "kernelspec": {
      "name": "python3",
      "display_name": "Python 3"
    },
    "language_info": {
      "name": "python"
    }
  },
  "cells": [
    {
      "cell_type": "markdown",
      "metadata": {
        "id": "view-in-github",
        "colab_type": "text"
      },
      "source": [
        "<a href=\"https://colab.research.google.com/github/saurabhgoyal12/sg-python/blob/main/NumPy.ipynb\" target=\"_parent\"><img src=\"https://colab.research.google.com/assets/colab-badge.svg\" alt=\"Open In Colab\"/></a>"
      ]
    },
    {
      "cell_type": "markdown",
      "metadata": {
        "id": "hCK-JwnKTHJJ"
      },
      "source": [
        "# Create Array"
      ]
    },
    {
      "cell_type": "code",
      "metadata": {
        "colab": {
          "base_uri": "https://localhost:8080/"
        },
        "id": "8hpV_bdIRiHQ",
        "outputId": "fb2a3914-ade2-4f6e-b261-9dd38a264eee"
      },
      "source": [
        "import numpy as np\n",
        "arr = np.array([1,2,3])\n",
        "print(arr)"
      ],
      "execution_count": 11,
      "outputs": [
        {
          "output_type": "stream",
          "name": "stdout",
          "text": [
            "[1 2 3]\n"
          ]
        }
      ]
    },
    {
      "cell_type": "code",
      "metadata": {
        "colab": {
          "base_uri": "https://localhost:8080/"
        },
        "id": "2HW0AWMeTCRa",
        "outputId": "e4b94441-d71d-4cb4-cd4e-98cd29b65c9b"
      },
      "source": [
        "import numpy as np\n",
        "mul_arr = np.array([[1,2,3],\n",
        "                   [4,5,6]])\n",
        "print(mul_arr)"
      ],
      "execution_count": 4,
      "outputs": [
        {
          "output_type": "stream",
          "name": "stdout",
          "text": [
            "[[1 2 3]\n",
            " [4 5 6]]\n"
          ]
        }
      ]
    },
    {
      "cell_type": "code",
      "metadata": {
        "colab": {
          "base_uri": "https://localhost:8080/"
        },
        "id": "8jedRbH4XlqI",
        "outputId": "16543ef1-8aea-4d77-b28f-42a43624dbe6"
      },
      "source": [
        "import numpy as np\n",
        "arr = np.array([5,3,6,2,9,7,4])\n",
        "print(arr)\n",
        "arr.sort()\n",
        "print(arr)"
      ],
      "execution_count": 6,
      "outputs": [
        {
          "output_type": "stream",
          "name": "stdout",
          "text": [
            "[5 3 6 2 9 7 4]\n",
            "[2 3 4 5 6 7 9]\n"
          ]
        }
      ]
    },
    {
      "cell_type": "code",
      "metadata": {
        "colab": {
          "base_uri": "https://localhost:8080/"
        },
        "id": "D7XljMIkYNNW",
        "outputId": "216167d5-beb0-42e7-df9b-52c8549d52ef"
      },
      "source": [
        "import numpy as np\n",
        "arr = np.array([5,3,6,2,9,7,4])\n",
        "print(arr)\n",
        "arr.argsort()\n",
        "print(arr)"
      ],
      "execution_count": 7,
      "outputs": [
        {
          "output_type": "stream",
          "name": "stdout",
          "text": [
            "[5 3 6 2 9 7 4]\n",
            "[5 3 6 2 9 7 4]\n"
          ]
        }
      ]
    },
    {
      "cell_type": "code",
      "metadata": {
        "colab": {
          "base_uri": "https://localhost:8080/"
        },
        "id": "27TQbhJj080p",
        "outputId": "2dd5c111-db3f-4c23-e243-2d01512166e4"
      },
      "source": [
        "import numpy as np\n",
        "s = np.arange(0,10)\n",
        "print(s)\n",
        "print(s[:6:3])\n"
      ],
      "execution_count": 9,
      "outputs": [
        {
          "output_type": "stream",
          "name": "stdout",
          "text": [
            "[0 1 2 3 4 5 6 7 8 9]\n",
            "[0 3]\n"
          ]
        }
      ]
    }
  ]
}